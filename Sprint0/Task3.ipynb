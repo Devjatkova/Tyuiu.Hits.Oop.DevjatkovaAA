{
 "cells": [
  {
   "cell_type": "markdown",
   "metadata": {},
   "source": [
    "<h1 style=\"color:DodgerBlue\">Индивидальный проект</h1>"
   ]
  },
  {
   "cell_type": "markdown",
   "metadata": {},
   "source": [
    "<h2 style=\"color:DodgerBlue\">Название проекта:</h2>\n",
    "\n",
    "----\n",
    "\n",
    "### Вариант задания 4\n"
   ]
  },
  {
   "cell_type": "markdown",
   "metadata": {},
   "source": [
    "<h2 style=\"color:DodgerBlue\">Описание проекта:</h2>\n",
    "\n",
    "----\n",
    "\n",
    "Описание задачи:\n",
    "\n",
    "Создать базовый класс Product в C#, который будет представлять информацию о\n",
    "продуктах. На основе этого класса разработать 2-3 производных класса,\n",
    "демонстрирующих принципы наследования и полиморфизма. В каждом из классов\n",
    "должны быть реализованы новые атрибуты и методы, а также переопределены\n",
    "некоторые методы базового класса для демонстрации полиморфизма.\n",
    "\n",
    "\n",
    "Требования к базовому классу Product:\n",
    "\n",
    "• Атрибуты: Название (Name), Цена (Price), Производитель (Manufacturer).\n",
    "\n",
    "• Методы:\n",
    "o GetInfo(): метод для получения информации о продукте в виде строки.\n",
    "o Discount(): метод для применения скидки к цене продукта.\n",
    "o Display(): метод для отображения информации о продукте на экране.\n",
    "\n",
    "\n",
    "Требования к производным классам:\n",
    "1. Электроника (Electronics): Должен содержать дополнительные атрибуты,\n",
    "такие как Гарантийный срок (WarrantyPeriod). Метод Discount() должен быть\n",
    "переопределен для добавления логики учета гарантийного срока при\n",
    "применении скидки.\n",
    "2. Одежда (Clothing): Должен содержать дополнительные атрибуты, такие как\n",
    "Размер (Size). Метод Display() должен быть переопределен для добавления\n",
    "информации о размере при отображении информации о продукте.\n",
    "3. Книги (Books) (если требуется третий класс): Должен содержать\n",
    "дополнительные атрибуты, такие как Автор (Author). Метод GetInfo() должен\n",
    "быть переопределен для включения информации об авторе в описании\n",
    "продукта.\n"
   ]
  },
  {
   "cell_type": "markdown",
   "metadata": {},
   "source": [
    "<h2 style=\"color:DodgerBlue\">Реализация:</h2>\n",
    "\n",
    "----"
   ]
  },
  {
   "cell_type": "code",
   "execution_count": 2,
   "metadata": {
    "dotnet_interactive": {
     "language": "csharp"
    },
    "polyglot_notebook": {
     "kernelName": "csharp"
    }
   },
   "outputs": [
    {
     "name": "stdout",
     "output_type": "stream",
     "text": [
      "Товар: Молоко тюменское, его цена: 65, производитель: ООО «Тюменьмолоко»\n",
      "На товар Молоко тюменское действует скидка в 5%\n",
      "Информация о товаре Молоко тюменское выведена на экран\n",
      "\n",
      "Товар: Смартфон Xiaomi Redmi Note 8 2021 64 ГБ синий, его цена: 15990, производитель: Xiaomi\n",
      "Гарантийный срок на товар Смартфон Xiaomi Redmi Note 8 2021 64 ГБ синий составляет 12 месяцев\n",
      "\n",
      "Товар: Рубашка в клетку, его цена: 4500, производитель: ЕМКА\n",
      "Размер товара Рубашка в клетку - 50\n",
      "\n",
      "Товар: Обмануть вселенную, его цена: 605, автор: Макс Максимов\n"
     ]
    }
   ],
   "source": [
    "public class Product\n",
    "{\n",
    "    public string Name;\n",
    "    public int Price;\n",
    "    public string Manufacturer;\n",
    "\n",
    "\n",
    "    public virtual string GetInfo()\n",
    "    {\n",
    "        return $\"Товар: {Name}, его цена: {Price}, производитель: {Manufacturer}\";\n",
    "    }\n",
    "\n",
    "    public virtual void Discount()\n",
    "    {\n",
    "        Console.WriteLine($\"На товар {Name} действует скидка в 5%\");\n",
    "    }\n",
    "\n",
    "    public virtual void Display()\n",
    "    {\n",
    "        Console.WriteLine($\"Информация о товаре {Name} выведена на экран\");\n",
    "    }\n",
    "}\n",
    "\n",
    "    public class Electronics : Product\n",
    "{\n",
    "    public string WarrantyPeriod;\n",
    "\n",
    "    public override void Discount()\n",
    "    {\n",
    "        Console.WriteLine($\"Гарантийный срок на товар {Name} составляет {WarrantyPeriod}\");\n",
    "    }\n",
    "}\n",
    "\n",
    "public class Clothing: Product\n",
    "{\n",
    "    public int Size;\n",
    "\n",
    "    public override void Display()\n",
    "    {\n",
    "        Console.WriteLine($\"Размер товара {Name} - {Size}\");\n",
    "    }\n",
    "}\n",
    "\n",
    "public class Books: Product\n",
    "{\n",
    "    public string Author;\n",
    "\n",
    "    public override string GetInfo()\n",
    "    {\n",
    "        return $\"Товар: {Name}, его цена: {Price}, автор: {Author}\";\n",
    "    }\n",
    "}\n",
    "\n",
    "\n",
    "Product Sour_cream = new Product();\n",
    "Sour_cream.Name = \"Молоко тюменское\";\n",
    "Sour_cream.Price = 65;\n",
    "Sour_cream.Manufacturer = \"ООО «Тюменьмолоко»\";\n",
    "Console.WriteLine(Sour_cream.GetInfo());\n",
    "Sour_cream.Discount();\n",
    "Sour_cream.Display();\n",
    "\n",
    "Console.WriteLine(\"\");\n",
    "\n",
    "Electronics Telephone = new Electronics();\n",
    "Telephone.Name = \"Смартфон Xiaomi Redmi Note 8 2021 64 ГБ синий\";\n",
    "Telephone.Price = 15990;\n",
    "Telephone.Manufacturer = \"Xiaomi\";\n",
    "Telephone.WarrantyPeriod = \"12 месяцев\";\n",
    "Console.WriteLine(Telephone.GetInfo());\n",
    "Telephone.Discount();\n",
    "\n",
    "Console.WriteLine(\"\");\n",
    "\n",
    "Clothing Shirt = new Clothing();\n",
    "Shirt.Name = \"Рубашка в клетку\";\n",
    "Shirt.Price = 4500;\n",
    "Shirt.Manufacturer = \"ЕМКА\";\n",
    "Shirt.Size = 50;\n",
    "Console.WriteLine(Shirt.GetInfo());\n",
    "Shirt.Display();\n",
    "\n",
    "Console.WriteLine(\"\");\n",
    "\n",
    "Books Book = new Books();\n",
    "Book.Name = \"Обмануть вселенную\";\n",
    "Book.Price = 605;\n",
    "Book.Author = \"Макс Максимов\";\n",
    "Console.WriteLine(Book.GetInfo());\n"
   ]
  }
 ],
 "metadata": {
  "kernelspec": {
   "display_name": ".NET (C#)",
   "language": "C#",
   "name": ".net-csharp"
  },
  "polyglot_notebook": {
   "kernelInfo": {
    "defaultKernelName": "csharp",
    "items": [
     {
      "aliases": [],
      "languageName": "csharp",
      "name": "csharp"
     }
    ]
   }
  }
 },
 "nbformat": 4,
 "nbformat_minor": 2
}
